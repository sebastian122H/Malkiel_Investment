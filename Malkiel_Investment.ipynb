{
  "nbformat": 4,
  "nbformat_minor": 0,
  "metadata": {
    "colab": {
      "provenance": [],
      "authorship_tag": "ABX9TyPo7pqlA3zXxN0iKfiton63",
      "include_colab_link": true
    },
    "kernelspec": {
      "name": "python3",
      "display_name": "Python 3"
    },
    "language_info": {
      "name": "python"
    }
  },
  "cells": [
    {
      "cell_type": "markdown",
      "metadata": {
        "id": "view-in-github",
        "colab_type": "text"
      },
      "source": [
        "<a href=\"https://colab.research.google.com/github/sebastian122H/Malkiel_Investment/blob/main/Malkiel_Investment.ipynb\" target=\"_parent\"><img src=\"https://colab.research.google.com/assets/colab-badge.svg\" alt=\"Open In Colab\"/></a>"
      ]
    },
    {
      "cell_type": "markdown",
      "source": [
        "# This is the process for creating the Malkiel Investment Randomisation Code "
      ],
      "metadata": {
        "id": "zaoOeBX6uFbh"
      }
    },
    {
      "cell_type": "code",
      "execution_count": 12,
      "metadata": {
        "colab": {
          "base_uri": "https://localhost:8080/"
        },
        "id": "AuLoDmq9ZLwH",
        "outputId": "d79c9fd1-41e0-4c4a-dfa9-7f849e4d9dff"
      },
      "outputs": [
        {
          "output_type": "stream",
          "name": "stdout",
          "text": [
            "['\"QVMS\"' '\"FWP\"' '\"DXJS\"' '\"FBP\"' '\"KGRO\"' '\"FSMO\"' '\"FRST\"' '\"BR\"'\n",
            " '\"NESR\"' '\"TNGX\"' '\"AUDC\"' '\"IPOF\"' '\"OCAXW\"' '\"VC\"' '\"FLBR\"' '\"KRMD\"'\n",
            " '\"ZECP\"' '\"DRNA\"' '\"RCB\"' '\"SURG\"']\n"
          ]
        }
      ],
      "source": [
        "## This is the First draft, which did not properly work and was very inefficient.\n",
        "from urllib.request import urlopen\n",
        "import random\n",
        "import codecs\n",
        "import numpy as np\n",
        "\n",
        "\n",
        "link = \"https://raw.githubusercontent.com/RayBB/random-stock-picker/master/stocks.json\"\n",
        "x = urlopen(link)\n",
        "stock_bytes = x.read()\n",
        "stock_decoded = codecs.decode(stock_bytes, 'UTF-8')\n",
        "stock_list = stock_decoded.split(\",\")\n",
        "\n",
        "def stock_picks():\n",
        "  stockerinos = []\n",
        "  for i in range(0,10\n",
        "                 ):\n",
        "    randnum = random.randint(0,len(stock_list))\n",
        "    stock = stock_list[randnum]\n",
        "    stockerinos.append(stock)\n",
        "    stock_list.remove(stock)\n",
        "  return stockerinos\n",
        "\n",
        "Group1 = []\n",
        "Group2 = []\n",
        "Group3 = []\n",
        "Group4 = []\n",
        "\n",
        "def stocks_r():\n",
        "  Group1.append(stock_picks[0,19])\n",
        "  Group2.append(stock_picks[20,39])\n",
        "  Group3.append(stock_picks[40,59])\n",
        "  Group4.append(stock_picks[60,79])\n",
        "  return Group1\n",
        "\n",
        "print(group1)"
      ]
    },
    {
      "cell_type": "code",
      "source": [
        "## This second Version is the improved version which takes a different approach, using only 1 function to assort the stocks picks to different groups.\n",
        "from urllib.request import urlopen\n",
        "import random\n",
        "import numpy as np\n",
        "\n",
        "\n",
        "link = \"https://raw.githubusercontent.com/RayBB/random-stock-picker/master/stocks.json\"\n",
        "x = urlopen(link)\n",
        "stock_bytes = x.read()\n",
        "stock_decoded = codecs.decode(stock_bytes, 'UTF-8')\n",
        "stock_list = stock_decoded.split(\",\")\n",
        "\n",
        "def stock_choice():\n",
        "  num = int(input(\"How many stocks does every group need?: \"))\n",
        "  group1 = np.random.choice(stock_list,num,replace=False)\n",
        "  group2 = np.random.choice(stock_list,num,replace=False)\n",
        "  group3 = np.random.choice(stock_list,num,replace=False)\n",
        "  group4 = np.random.choice(stock_list,num,replace=False)\n",
        "  return print(\"Group 1 Stocks are: \", group1, \"\\n Group 2 Stocks are: \", group2, \"\\n Group 3 Stocks are: \", group3, \"\\n Group 4 Stocks are: \", group4)\n",
        "\n",
        "  \n",
        "stock_choice()"
      ],
      "metadata": {
        "colab": {
          "base_uri": "https://localhost:8080/"
        },
        "id": "tYpA2IVsqYqF",
        "outputId": "3e562bc7-9c91-460a-bb37-9edf347a6e88"
      },
      "execution_count": 20,
      "outputs": [
        {
          "output_type": "stream",
          "name": "stdout",
          "text": [
            "How many stocks does every group need?: 4\n",
            "Group 1 Stocks are:  ['\"REDU\"' '\"MBSC\"' '\"BHSEU\"' '\"KTTA\"'] \n",
            " Group 2 Stocks are:  ['\"CTHR\"' '\"BSDE\"' '\"TXRH\"' '\"HERD\"'] \n",
            " Group 3 Stocks are:  ['\"DNOW\"' '\"NVEE\"' '\"EDUT\"' '\"AESC\"'] \n",
            " Group 4 Stocks are:  ['\"RAAX\"' '\"DFNM\"' '\"INDL\"' '\"AUBN\"']\n"
          ]
        }
      ]
    },
    {
      "cell_type": "code",
      "source": [],
      "metadata": {
        "id": "AXGKo9tuq7to"
      },
      "execution_count": null,
      "outputs": []
    }
  ]
}