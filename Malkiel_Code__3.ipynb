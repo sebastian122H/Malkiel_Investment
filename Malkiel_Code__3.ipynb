{
  "nbformat": 4,
  "nbformat_minor": 0,
  "metadata": {
    "colab": {
      "provenance": [],
      "authorship_tag": "ABX9TyO1OQ5VS+EomLfyj/KdDt0y",
      "include_colab_link": true
    },
    "kernelspec": {
      "name": "python3",
      "display_name": "Python 3"
    },
    "language_info": {
      "name": "python"
    }
  },
  "cells": [
    {
      "cell_type": "markdown",
      "metadata": {
        "id": "view-in-github",
        "colab_type": "text"
      },
      "source": [
        "<a href=\"https://colab.research.google.com/github/sebastian122H/Malkiel_Investment/blob/main/Malkiel_Code__3.ipynb\" target=\"_parent\"><img src=\"https://colab.research.google.com/assets/colab-badge.svg\" alt=\"Open In Colab\"/></a>"
      ]
    },
    {
      "cell_type": "code",
      "execution_count": null,
      "metadata": {
        "id": "ECiCKWn5T4nj"
      },
      "outputs": [],
      "source": [
        "## 3rd Attempt using updated Meta data which will provide a more detailed/available list of stocks\n",
        "import pandas as pd\n",
        "import numpy as np\n",
        "\n",
        "df = pd.read_csv(\"etoro_data.csv\")\n",
        "df.drop(['Industry', 'Stock Name', 'Exchange'],axis = 1, inplace=True)\n",
        "stock_list = df[\"Ticker\"].values.tolist()\n",
        "\n",
        "def stock_choice():\n",
        "  num = int(input(\"How many stocks does every group need?: \"))\n",
        "  group1 = np.random.choice(stock_list,num,replace=False)\n",
        "  group2 = np.random.choice(stock_list,num,replace=False)\n",
        "  group3 = np.random.choice(stock_list,num,replace=False)\n",
        "  group4 = np.random.choice(stock_list,num,replace=False)\n",
        "  return print(\"Group 1 Stocks are: \", group1, \"\\n Group 2 Stocks are: \", group2, \"\\n Group 3 Stocks are: \", group3, \"\\n Group 4 Stocks are: \", group4)\n",
        "\n",
        "  \n",
        "stock_choice()"
      ]
    }
  ]
}